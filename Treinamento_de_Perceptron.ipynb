{
  "nbformat": 4,
  "nbformat_minor": 0,
  "metadata": {
    "colab": {
      "provenance": [],
      "authorship_tag": "ABX9TyORBiYhKhdV9m559rDsNqI8",
      "include_colab_link": true
    },
    "kernelspec": {
      "name": "python3",
      "display_name": "Python 3"
    },
    "language_info": {
      "name": "python"
    }
  },
  "cells": [
    {
      "cell_type": "markdown",
      "metadata": {
        "id": "view-in-github",
        "colab_type": "text"
      },
      "source": [
        "<a href=\"https://colab.research.google.com/github/Caio-Oliveira98/Redes-neurais/blob/main/Treinamento_de_Perceptron.ipynb\" target=\"_parent\"><img src=\"https://colab.research.google.com/assets/colab-badge.svg\" alt=\"Open In Colab\"/></a>"
      ]
    },
    {
      "cell_type": "code",
      "execution_count": 17,
      "metadata": {
        "id": "RcNTGuSRHD9U"
      },
      "outputs": [],
      "source": [
        "import numpy as np #manipulação de arrays\n",
        "\n"
      ]
    },
    {
      "cell_type": "code",
      "source": [
        "#Definindo as variaveis da RNA\n",
        "\n",
        "entradas = np.array([[0,0],[0,1],[1,0],[1,1]]) #definindo as entradas\n",
        "\n",
        "saidas = np.array([0,0,0,1]) #definindo o output\n",
        "\n",
        "pesos = np.array([0.0,0.0]) #definindo os pesos\n",
        "\n",
        "taxaAprendizagem = 0.1 #taxa de aprendizado\n",
        "\n",
        "epocas = 5 # número de épocas\n",
        "\n",
        "#"
      ],
      "metadata": {
        "id": "AYGQ9GgNLSCT"
      },
      "execution_count": 18,
      "outputs": []
    },
    {
      "cell_type": "code",
      "source": [
        "#Função de ativação\n",
        "\n",
        "def stepfunction(soma):\n",
        "  if (soma >= 1):\n",
        "    return 1\n",
        "  return 0\n",
        "#Na Perceptron sempre teremos 1 função soma e 1 função de ativação"
      ],
      "metadata": {
        "id": "-AHd_OIbMjQk"
      },
      "execution_count": 23,
      "outputs": []
    },
    {
      "cell_type": "code",
      "source": [
        "# prompt: faça uma função que multiplique a primeira entrada com o primeiro peso e a outra entrada com o outro peso\n",
        "\n",
        "def soma(registro, pesos):\n",
        "  s = registro.dot(pesos)\n",
        "  return stepfunction(s)\n"
      ],
      "metadata": {
        "id": "_lROkOfSN4QV"
      },
      "execution_count": 24,
      "outputs": []
    },
    {
      "cell_type": "code",
      "source": [
        "# crie uma função para treinar uma perceptron\n",
        "\n",
        "def treinarPerceptron():\n",
        "  count = 0\n",
        "#loop de início de treino da RNA\n",
        "\n",
        "  while (count <= epocas):\n",
        "\n",
        "  #zerando o erro para que sempre inicie o teste sem erros\n",
        "    errototal = 0\n",
        "\n",
        "  #loop para o cálculo do erro em cada uma das saídas\n",
        "    for i in range(len(saidas)):\n",
        "      saida_predita = soma(entradas[i],pesos)\n",
        "      erro = abs(saidas[i] - saida_predita)\n",
        "      errototal += erro\n",
        "      if(errototal !=0):\n",
        "\n",
        "  #loop para atualizar os pesos\n",
        "        for j in range(len(pesos)):\n",
        "          pesos[j] = pesos[j] + (taxaAprendizagem * entradas[i][j] * erro)\n",
        "          print('Peso atualizado: ' + str(pesos[j]))\n",
        "\n",
        "  count += 1\n",
        "\n",
        "  #Aqui termina uma época.\n",
        "\n",
        "\n",
        "#SaidaPredita = CalculoSaida(entrada,pesos)\n",
        "\n"
      ],
      "metadata": {
        "id": "wWqPADhrQIEn"
      },
      "execution_count": 25,
      "outputs": []
    },
    {
      "cell_type": "code",
      "source": [
        "treinarPerceptron()"
      ],
      "metadata": {
        "colab": {
          "base_uri": "https://localhost:8080/"
        },
        "id": "JWXwgXRpWQZC",
        "outputId": "ed5795bd-2ec4-4db3-eea7-b28cc4a6985a"
      },
      "execution_count": null,
      "outputs": [
        {
          "output_type": "stream",
          "name": "stdout",
          "text": [
            "Peso atualizado: 0.1\n",
            "Peso atualizado: 0.1\n",
            "Peso atualizado: 0.2\n",
            "Peso atualizado: 0.2\n",
            "Peso atualizado: 0.30000000000000004\n",
            "Peso atualizado: 0.30000000000000004\n",
            "Peso atualizado: 0.4\n",
            "Peso atualizado: 0.4\n",
            "Peso atualizado: 0.5\n",
            "Peso atualizado: 0.5\n"
          ]
        }
      ]
    }
  ]
}